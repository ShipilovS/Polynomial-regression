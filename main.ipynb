{
 "cells": [
  {
   "cell_type": "code",
   "execution_count": 1,
   "source": [
    "import pandas as pd\r\n",
    "import numpy as np\r\n",
    "import matplotlib.pyplot as plt\r\n",
    "from sklearn.linear_model import LinearRegression\r\n",
    "from sklearn.metrics import r2_score, mean_squared_error, mean_absolute_error"
   ],
   "outputs": [],
   "metadata": {}
  },
  {
   "cell_type": "code",
   "execution_count": 2,
   "source": [
    "df = pd.read_csv('3.10_non_linear.csv')\r\n",
    "df.head()"
   ],
   "outputs": [
    {
     "output_type": "execute_result",
     "data": {
      "text/plain": [
       "    x_train   y_train\n",
       "0  0.138368  0.838812\n",
       "1  0.157237  0.889313\n",
       "2  0.188684  1.430040\n",
       "3  0.685553  1.717309\n",
       "4  0.874237  2.032588"
      ],
      "text/html": [
       "<div>\n",
       "<style scoped>\n",
       "    .dataframe tbody tr th:only-of-type {\n",
       "        vertical-align: middle;\n",
       "    }\n",
       "\n",
       "    .dataframe tbody tr th {\n",
       "        vertical-align: top;\n",
       "    }\n",
       "\n",
       "    .dataframe thead th {\n",
       "        text-align: right;\n",
       "    }\n",
       "</style>\n",
       "<table border=\"1\" class=\"dataframe\">\n",
       "  <thead>\n",
       "    <tr style=\"text-align: right;\">\n",
       "      <th></th>\n",
       "      <th>x_train</th>\n",
       "      <th>y_train</th>\n",
       "    </tr>\n",
       "  </thead>\n",
       "  <tbody>\n",
       "    <tr>\n",
       "      <th>0</th>\n",
       "      <td>0.138368</td>\n",
       "      <td>0.838812</td>\n",
       "    </tr>\n",
       "    <tr>\n",
       "      <th>1</th>\n",
       "      <td>0.157237</td>\n",
       "      <td>0.889313</td>\n",
       "    </tr>\n",
       "    <tr>\n",
       "      <th>2</th>\n",
       "      <td>0.188684</td>\n",
       "      <td>1.430040</td>\n",
       "    </tr>\n",
       "    <tr>\n",
       "      <th>3</th>\n",
       "      <td>0.685553</td>\n",
       "      <td>1.717309</td>\n",
       "    </tr>\n",
       "    <tr>\n",
       "      <th>4</th>\n",
       "      <td>0.874237</td>\n",
       "      <td>2.032588</td>\n",
       "    </tr>\n",
       "  </tbody>\n",
       "</table>\n",
       "</div>"
      ]
     },
     "metadata": {},
     "execution_count": 2
    }
   ],
   "metadata": {}
  },
  {
   "cell_type": "code",
   "execution_count": 61,
   "source": [
    "def set_degree(data, degree):\r\n",
    "    return np.array([\r\n",
    "        data**i for i in range(1, degree + 1)\r\n",
    "    ]).T"
   ],
   "outputs": [],
   "metadata": {}
  },
  {
   "cell_type": "code",
   "execution_count": 62,
   "source": [
    "def train_polynomial(data, degree):\r\n",
    "    X = set_degree(data.x_train, degree)\r\n",
    "    y = data.y_train\r\n",
    "    model = LinearRegression()\r\n",
    "    model.fit(X, y)\r\n",
    "    y_predict = model.predict(X)\r\n",
    "    MAE = mean_absolute_error(y, y_predict)\r\n",
    "    MSE = mean_squared_error(y, y_predict)\r\n",
    "    r2 = r2_score(y, y_predict)\r\n",
    "    # print(y_predict)\r\n",
    "    print(f\"degree = {degree}\")\r\n",
    "    print(f\"r2_score = {r2}\")\r\n",
    "    print(f\"MAE = {MAE}\")\r\n",
    "    print(f\"MSE = {MSE}\\n\")\r\n",
    "    plt.scatter(data.x_train, data.y_train)\r\n",
    "    plt.plot(data.x_train, y_predict)\r\n",
    "    return r2, MAE, MSE"
   ],
   "outputs": [],
   "metadata": {}
  },
  {
   "cell_type": "code",
   "execution_count": 63,
   "source": [
    "[train_polynomial(df, i) for i in range(1, 20)]"
   ],
   "outputs": [
    {
     "output_type": "stream",
     "name": "stdout",
     "text": [
      "degree = 1\n",
      "r2_score = 0.5194693682784115\n",
      "MAE = 0.4575837851320006\n",
      "MSE = 0.3066963387047446\n",
      "\n",
      "degree = 2\n",
      "r2_score = 0.5334743428787219\n",
      "MAE = 0.43881759895029804\n",
      "MSE = 0.29775773177727466\n",
      "\n",
      "degree = 3\n",
      "r2_score = 0.8884043369162165\n",
      "MAE = 0.2233908111803397\n",
      "MSE = 0.07122538923378068\n",
      "\n",
      "degree = 4\n",
      "r2_score = 0.8954938957170195\n",
      "MAE = 0.21022059446373814\n",
      "MSE = 0.06670051280821682\n",
      "\n",
      "degree = 5\n",
      "r2_score = 0.8955568441439694\n",
      "MAE = 0.20982308161622065\n",
      "MSE = 0.06666033628085671\n",
      "\n",
      "degree = 6\n",
      "r2_score = 0.8993403708180588\n",
      "MAE = 0.20516004049452835\n",
      "MSE = 0.06424551878175645\n",
      "\n",
      "degree = 7\n",
      "r2_score = 0.9004609754024347\n",
      "MAE = 0.20390702406277922\n",
      "MSE = 0.06353029835567767\n",
      "\n",
      "degree = 8\n",
      "r2_score = 0.9086556247251202\n",
      "MAE = 0.19487576148171992\n",
      "MSE = 0.05830010327897111\n",
      "\n",
      "degree = 9\n",
      "r2_score = 0.908807121514348\n",
      "MAE = 0.1959664114076563\n",
      "MSE = 0.0582034111900293\n",
      "\n",
      "degree = 10\n",
      "r2_score = 0.9091133831300017\n",
      "MAE = 0.1947247456373926\n",
      "MSE = 0.05800794120329762\n",
      "\n",
      "degree = 11\n",
      "r2_score = 0.9093908905677963\n",
      "MAE = 0.19435499307349624\n",
      "MSE = 0.05783082343074265\n",
      "\n",
      "degree = 12\n",
      "r2_score = 0.9109644801612509\n",
      "MAE = 0.19400171937625804\n",
      "MSE = 0.056826487525646764\n",
      "\n",
      "degree = 13\n",
      "r2_score = 0.9136537628535064\n",
      "MAE = 0.1900867767014024\n",
      "MSE = 0.05511006592625396\n",
      "\n",
      "degree = 14\n",
      "r2_score = 0.9163836055473991\n",
      "MAE = 0.18911484341530416\n",
      "MSE = 0.05336775710307398\n",
      "\n",
      "degree = 15\n",
      "r2_score = 0.9161494241417205\n",
      "MAE = 0.18815950143663637\n",
      "MSE = 0.05351722224634076\n",
      "\n",
      "degree = 16\n",
      "r2_score = 0.9118556061644437\n",
      "MAE = 0.19603980306594726\n",
      "MSE = 0.05625773068797201\n",
      "\n",
      "degree = 17\n",
      "r2_score = 0.9086434437991219\n",
      "MAE = 0.19680404467917087\n",
      "MSE = 0.05830787769574934\n",
      "\n",
      "degree = 18\n",
      "r2_score = 0.9104664677204635\n",
      "MAE = 0.1892057515888345\n",
      "MSE = 0.0571443415439675\n",
      "\n",
      "degree = 19\n",
      "r2_score = 0.9006852726682547\n",
      "MAE = 0.20776238481679446\n",
      "MSE = 0.06338714171660553\n",
      "\n"
     ]
    },
    {
     "output_type": "execute_result",
     "data": {
      "text/plain": [
       "[(0.5194693682784115, 0.4575837851320006, 0.3066963387047446),\n",
       " (0.5334743428787219, 0.43881759895029804, 0.29775773177727466),\n",
       " (0.8884043369162165, 0.2233908111803397, 0.07122538923378068),\n",
       " (0.8954938957170195, 0.21022059446373814, 0.06670051280821682),\n",
       " (0.8955568441439694, 0.20982308161622065, 0.06666033628085671),\n",
       " (0.8993403708180588, 0.20516004049452835, 0.06424551878175645),\n",
       " (0.9004609754024347, 0.20390702406277922, 0.06353029835567767),\n",
       " (0.9086556247251202, 0.19487576148171992, 0.05830010327897111),\n",
       " (0.908807121514348, 0.1959664114076563, 0.0582034111900293),\n",
       " (0.9091133831300017, 0.1947247456373926, 0.05800794120329762),\n",
       " (0.9093908905677963, 0.19435499307349624, 0.05783082343074265),\n",
       " (0.9109644801612509, 0.19400171937625804, 0.056826487525646764),\n",
       " (0.9136537628535064, 0.1900867767014024, 0.05511006592625396),\n",
       " (0.9163836055473991, 0.18911484341530416, 0.05336775710307398),\n",
       " (0.9161494241417205, 0.18815950143663637, 0.05351722224634076),\n",
       " (0.9118556061644437, 0.19603980306594726, 0.05625773068797201),\n",
       " (0.9086434437991219, 0.19680404467917087, 0.05830787769574934),\n",
       " (0.9104664677204635, 0.1892057515888345, 0.0571443415439675),\n",
       " (0.9006852726682547, 0.20776238481679446, 0.06338714171660553)]"
      ]
     },
     "metadata": {},
     "execution_count": 63
    },
    {
     "output_type": "display_data",
     "data": {
      "text/plain": [
       "<Figure size 432x288 with 1 Axes>"
      ],
      "image/png": "[encoded data removed]"
     },
     "metadata": {
      "needs_background": "light"
     }
    }
   ],
   "metadata": {}
  },
  {
   "cell_type": "code",
   "execution_count": 72,
   "source": [
    "degree = 2\r\n",
    "mass = []\r\n",
    "\r\n",
    "for i in range(1, degree + 1):\r\n",
    "    mass.append(train_polynomial(df, i))\r\n",
    "# fig, ax = plt.subplots()\r\n",
    "\r\n",
    "\r\n",
    "for i in range(len(mass)):\r\n",
    "    fig, ax = plt.subplots()\r\n",
    "    plt.title(f\"degree = {i + 1}\")\r\n",
    "    for j in range(len(mass[0])):\r\n",
    "        plt.xlabel(['r2', 'MAE', 'MSE'])\r\n",
    "        ax.set_xticklabels(['r2', 'MAE', 'MSE'])\r\n",
    "        ax.bar(j, mass[i][j])\r\n",
    "\r\n",
    "ax.legend()"
   ],
   "outputs": [
    {
     "output_type": "stream",
     "name": "stderr",
     "text": [
      "C:\\Users\\Пользователь\\AppData\\Roaming\\Python\\Python37\\site-packages\\ipykernel_launcher.py:14: UserWarning: FixedFormatter should only be used together with FixedLocator\n",
      "  \n",
      "No handles with labels found to put in legend.\n"
     ]
    },
    {
     "output_type": "stream",
     "name": "stdout",
     "text": [
      "degree = 1\n",
      "r2_score = 0.5194693682784115\n",
      "MAE = 0.4575837851320006\n",
      "MSE = 0.3066963387047446\n",
      "\n",
      "degree = 2\n",
      "r2_score = 0.5334743428787219\n",
      "MAE = 0.43881759895029804\n",
      "MSE = 0.29775773177727466\n",
      "\n"
     ]
    },
    {
     "output_type": "execute_result",
     "data": {
      "text/plain": [
       "<matplotlib.legend.Legend at 0x20a8da713c8>"
      ]
     },
     "metadata": {},
     "execution_count": 72
    },
    {
     "output_type": "display_data",
     "data": {
      "text/plain": [
       "<Figure size 432x288 with 1 Axes>"
      ],
      "image/png": "[encoded data removed]"
     },
     "metadata": {
      "needs_background": "light"
     }
    },
    {
     "output_type": "display_data",
     "data": {
      "text/plain": [
       "<Figure size 432x288 with 1 Axes>"
      ],
      "image/png": "[encoded data removed]"
     },
     "metadata": {
      "needs_background": "light"
     }
    },
    {
     "output_type": "display_data",
     "data": {
      "text/plain": [
       "<Figure size 432x288 with 1 Axes>"
      ],
      "image/png": "[encoded data removed]"
     },
     "metadata": {
      "needs_background": "light"
     }
    }
   ],
   "metadata": {}
  },
  {
   "cell_type": "code",
   "execution_count": null,
   "source": [],
   "outputs": [],
   "metadata": {}
  },
  {
   "cell_type": "code",
   "execution_count": null,
   "source": [],
   "outputs": [],
   "metadata": {}
  }
 ],
 "metadata": {
  "orig_nbformat": 4,
  "language_info": {
   "name": "python",
   "version": "3.7.9",
   "mimetype": "text/x-python",
   "codemirror_mode": {
    "name": "ipython",
    "version": 3
   },
   "pygments_lexer": "ipython3",
   "nbconvert_exporter": "python",
   "file_extension": ".py"
  },
  "kernelspec": {
   "name": "python3",
   "display_name": "Python 3.7.9 64-bit"
  },
  "interpreter": {
   "hash": "552ffa125739f1063d6c566273290e3c9a36ab34e8bf3389d7bdb327e3993666"
  }
 },
 "nbformat": 4,
 "nbformat_minor": 2
}